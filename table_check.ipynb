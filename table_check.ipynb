{
 "cells": [
  {
   "cell_type": "code",
   "execution_count": 13,
   "metadata": {},
   "outputs": [
    {
     "name": "stdout",
     "output_type": "stream",
     "text": [
      "Combined summary saved to 'f_invt_item_summary.csv'\n"
     ]
    }
   ],
   "source": [
    "import pandas as pd\n",
    "\n",
    "file = \"f_invt_item\"\n",
    "\n",
    "# Load your dataset into a Pandas DataFrame\n",
    "df = pd.read_csv(f\"C:\\\\Users\\\\jirip\\\\Desktop\\\\{file}.csv\")\n",
    "\n",
    "# Create empty lists to store results\n",
    "columns_with_nulls = []\n",
    "null_counts = []\n",
    "null_proportions = []\n",
    "\n",
    "columns_with_xna = []\n",
    "xna_counts = []\n",
    "xna_proportions = []\n",
    "\n",
    "# Value to check for (change this to the value you want to count)\n",
    "value_to_check = \"XNA\"\n",
    "\n",
    "# Loop through each column\n",
    "for column in df.columns:\n",
    "    # Count the number of null values in the column\n",
    "    null_count = df[column].isnull().sum()\n",
    "    \n",
    "    # Calculate the proportion of null values in the column, rounded to 2 decimal places\n",
    "    null_proportion = round(null_count / len(df), 2)\n",
    "    \n",
    "    # Append column name, null count, and null proportion to lists\n",
    "    columns_with_nulls.append(column)\n",
    "    null_counts.append(null_count)\n",
    "    null_proportions.append(null_proportion)\n",
    "    \n",
    "    # Count the number of occurrences of the value in the column\n",
    "    xna_count = (df[column] == value_to_check).sum()\n",
    "    \n",
    "    # Calculate the proportion of the value in the column, rounded to 2 decimal places\n",
    "    xna_proportion = round(xna_count / len(df), 2)\n",
    "    \n",
    "    # Append column name, value count, and value proportion to lists\n",
    "    columns_with_xna.append(column)\n",
    "    xna_counts.append(xna_count)\n",
    "    xna_proportions.append(xna_proportion)\n",
    "\n",
    "# Create DataFrames for null values and value counts\n",
    "null_summary = pd.DataFrame({\n",
    "    'Column Name': columns_with_nulls,\n",
    "    'Null Count': null_counts,\n",
    "    'Null Proportion': null_proportions\n",
    "})\n",
    "\n",
    "xna_summary = pd.DataFrame({\n",
    "    'Column Name': columns_with_xna,\n",
    "    f'{value_to_check} Count': xna_counts,\n",
    "    f'{value_to_check} Proportion': xna_proportions\n",
    "})\n",
    "\n",
    "# Merge the two DataFrames on 'Column Name'\n",
    "combined_summary = pd.merge(null_summary, xna_summary, on='Column Name')\n",
    "\n",
    "# Save the combined summary to a CSV file\n",
    "combined_summary.to_csv(f'{file}_summary.csv', index=False)\n",
    "\n",
    "print(f\"Combined summary saved to '{file}_summary.csv'\")"
   ]
  }
 ],
 "metadata": {
  "kernelspec": {
   "display_name": "Python 3",
   "language": "python",
   "name": "python3"
  },
  "language_info": {
   "codemirror_mode": {
    "name": "ipython",
    "version": 3
   },
   "file_extension": ".py",
   "mimetype": "text/x-python",
   "name": "python",
   "nbconvert_exporter": "python",
   "pygments_lexer": "ipython3",
   "version": "3.12.2"
  }
 },
 "nbformat": 4,
 "nbformat_minor": 2
}
